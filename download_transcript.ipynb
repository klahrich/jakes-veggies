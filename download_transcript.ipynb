{
 "cells": [
  {
   "cell_type": "code",
   "execution_count": 54,
   "metadata": {},
   "outputs": [],
   "source": [
    "from youtube_transcript_api import YouTubeTranscriptApi as yt\n",
    "import re\n",
    "from vertexai.preview.generative_models import GenerativeModel\n",
    "from IPython.display import display, Markdown"
   ]
  },
  {
   "cell_type": "code",
   "execution_count": 101,
   "metadata": {},
   "outputs": [
    {
     "ename": "SyntaxError",
     "evalue": "invalid syntax (1487730562.py, line 13)",
     "output_type": "error",
     "traceback": [
      "\u001b[1;36m  Cell \u001b[1;32mIn[101], line 13\u001b[1;36m\u001b[0m\n\u001b[1;33m    ('dSKVBpK5hs4',,)\u001b[0m\n\u001b[1;37m                   ^\u001b[0m\n\u001b[1;31mSyntaxError\u001b[0m\u001b[1;31m:\u001b[0m invalid syntax\n"
     ]
    }
   ],
   "source": [
    "#video_id = 'P6n7aFYUkk4'\n",
    "\n",
    "video_ids = [\n",
    "    # ('o7A-OnGYNFE', (35, 53), (41, 45)),\n",
    "    # ('ZjDYYO8xmGI', (47, 2), (52, 58)),\n",
    "    # ('71NhuYeul2Y', (44, 5)),\n",
    "    # ('M_z1cPAzm3c', (35, 51)),\n",
    "    # ('8nrjTCzFkOI', (33, 18)),\n",
    "    # ('tW9vx6FGuGo', (29, 3)),\n",
    "    # ('bmB_cPNJUdg', (30, 50)),\n",
    "    # ('BvoCIr1kct8', (36, 42)),\n",
    "    # ('_Bb8AWBmo_c', (30, 20))\n",
    "    ('dSKVBpK5hs4', (36, 58)),\n",
    "    ('rU3_f-XvHgA', (36, 0), (45, 55)),\n",
    "    ('i691bq-UVy0', (29, 25), (38, 42)),\n",
    "    ('cxc4Uz1Xvns', (40, 54), (44, 38)),\n",
    "    ('nqS_Xl_Lx8E'), (45, 38), (51, 18)\n",
    "]\n",
    "\n",
    "#'az97SZXP7Ls'"
   ]
  },
  {
   "cell_type": "code",
   "execution_count": 118,
   "metadata": {},
   "outputs": [],
   "source": [
    "#transcripts = [yt.get_transcript(video_id[0]) for video_id in video_ids]\n",
    "transcript = yt.get_transcript('cxc4Uz1Xvns')"
   ]
  },
  {
   "cell_type": "code",
   "execution_count": 117,
   "metadata": {},
   "outputs": [
    {
     "data": {
      "text/plain": [
       "[]"
      ]
     },
     "execution_count": 117,
     "metadata": {},
     "output_type": "execute_result"
    }
   ],
   "source": [
    "[str(int(t['start']/60)) + ':' + str(t['start'] - 60*(int(t['start']/60))) \n",
    "    for t in transcript if re.search('vegetab', t['text'], re.IGNORECASE)]"
   ]
  },
  {
   "cell_type": "code",
   "execution_count": 45,
   "metadata": {},
   "outputs": [],
   "source": [
    "veggies = []\n",
    "\n",
    "for video_id, transcript in zip(video_ids, transcripts):\n",
    "\n",
    "    start = video_id[1][0]*60 + video_id[1][1]\n",
    "    if len(video_id) == 3:\n",
    "        end = video_id[2][0]*60 + video_id[2][1]\n",
    "    else:\n",
    "        end = 99999999\n",
    "\n",
    "    veggie = ' '.join([t['text'] for t in transcript \n",
    "                        if t['start'] >= start and t['start'] + t['duration'] <= end])\n",
    "\n",
    "    veggies.append(veggie)"
   ]
  },
  {
   "cell_type": "code",
   "execution_count": 50,
   "metadata": {},
   "outputs": [],
   "source": [
    "gemini_pro_model = GenerativeModel(\"gemini-1.0-pro\")"
   ]
  },
  {
   "cell_type": "code",
   "execution_count": 79,
   "metadata": {},
   "outputs": [],
   "source": [
    "pre_prompt = \"\"\"\n",
    "    The following is a so-called 'veggie', where Jake Taylor talks about a short philosphical topic\n",
    "    which he then tries to connect to the world of stocks investing.\n",
    "\n",
    "    Give the 'veggie' a title and summarize the content of the 'veggie' into two or three short, \n",
    "    concise and clear bullet points.\n",
    "\n",
    "    It is very important that you follow the following format:\n",
    "\n",
    "    *Title*: [the title]\n",
    "\n",
    "    *Summary*: [the summary, in two to three sentences maximum]\n",
    "\n",
    "    *Key Takeaways*: [some key take-aways, using bullet points]\n",
    "\n",
    "    *Additional Insights* (optional): [some additional insights, if there are any, using bullet points]\n",
    "\n",
    "    *Conclusion*: the overall conclusion fomr the veggie\n",
    "\n",
    "    Veggie:\n",
    "    ------\n",
    "    \n",
    "\"\"\""
   ]
  },
  {
   "cell_type": "code",
   "execution_count": 80,
   "metadata": {},
   "outputs": [
    {
     "name": "stdout",
     "output_type": "stream",
     "text": [
      "0\n",
      "1\n",
      "2\n",
      "3\n",
      "4\n",
      "5\n",
      "6\n",
      "7\n",
      "8\n"
     ]
    }
   ],
   "source": [
    "answers = []\n",
    "\n",
    "for i,veggie in enumerate(veggies):\n",
    "    print(i)\n",
    "    model_response = gemini_pro_model.generate_content(pre_prompt + veggie)\n",
    "    answers.append(model_response)"
   ]
  },
  {
   "cell_type": "code",
   "execution_count": 96,
   "metadata": {},
   "outputs": [
    {
     "data": {
      "text/markdown": [
       "## Veggie Summary\n",
       "\n",
       "**Title:** Ergodicity and Investment Time Horizons\n",
       "\n",
       "**Summary:**\n",
       "\n",
       "* This veggie discusses the concept of ergodicity in the context of downhill skiing and investing.\n",
       "* Ergodicity refers to the idea that the average outcome of a large number of trials will be the same as the outcome of a single, infinitely long trial.\n",
       "* In the context of downhill skiing, this means that a skier who takes more risks (e.g., skiing faster) will have a higher chance of winning a race, but also a higher chance of crashing and being unable to finish the race.\n",
       "* Similarly, in investing, a portfolio manager who takes more risks (e.g., investing in more volatile stocks) will have a higher chance of achieving high returns, but also a higher chance of losing money.\n",
       "* The key takeaway is that the optimal investment strategy depends on the time horizon of the investor.\n",
       "* For short-term investors, it may make sense to take more risks in order to achieve high returns.\n",
       "* For long-term investors, it may make sense to take fewer risks in order to avoid the possibility of catastrophic losses.\n",
       "\n",
       "**Key Takeaways:**\n",
       "\n",
       "* Ergodicity is an important concept to understand when making investment decisions.\n",
       "* The optimal investment strategy depends on the time horizon of the investor.\n",
       "* Short-term investors may benefit from taking more risks, while long-term investors may be better off taking fewer risks.\n",
       "\n",
       "**Additional Insights:**\n",
       "\n",
       "* Diversification is important for all investors, but especially for long-term investors.\n",
       "* It is important to be aware of the opportunity cost of selling an investment.\n",
       "* The optimal investment strategy is constantly changing, so it is important to be adaptable.\n",
       "\n",
       "**Conclusion:**\n",
       "\n",
       "* There is no one-size-fits-all investment strategy.\n",
       "* The best investment strategy for you will depend on your individual circumstances, including your time horizon, risk tolerance, and investment goals.\n",
       "\n"
      ],
      "text/plain": [
       "<IPython.core.display.Markdown object>"
      ]
     },
     "metadata": {},
     "output_type": "display_data"
    }
   ],
   "source": [
    "display(Markdown(answers[8].text))"
   ]
  }
 ],
 "metadata": {
  "interpreter": {
   "hash": "bf8a744e99349bd173d769fe9a47f50ff69cf9d3daf61c5dcf8dc797c95e6c96"
  },
  "kernelspec": {
   "display_name": "Python 3.12.3 ('.venv-pytube': venv)",
   "language": "python",
   "name": "python3"
  },
  "language_info": {
   "codemirror_mode": {
    "name": "ipython",
    "version": 3
   },
   "file_extension": ".py",
   "mimetype": "text/x-python",
   "name": "python",
   "nbconvert_exporter": "python",
   "pygments_lexer": "ipython3",
   "version": "3.12.3"
  },
  "orig_nbformat": 4
 },
 "nbformat": 4,
 "nbformat_minor": 2
}
